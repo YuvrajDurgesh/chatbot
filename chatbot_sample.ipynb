{
 "cells": [
  {
   "cell_type": "code",
   "execution_count": 28,
   "metadata": {},
   "outputs": [],
   "source": [
    "import os\n",
    "import random\n",
    "import re\n",
    "import string\n",
    "\n",
    "import nltk\n",
    "from nltk.stem import WordNetLemmatizer\n",
    "from nltk.corpus import stopwords\n",
    "from sklearn.feature_extraction.text import TfidfVectorizer\n",
    "from sklearn.metrics.pairwise import cosine_similarity\n",
    "from nltk.stem import PorterStemmer\n",
    "from nltk.tokenize import word_tokenize"
   ]
  },
  {
   "cell_type": "code",
   "execution_count": 2,
   "metadata": {},
   "outputs": [
    {
     "name": "stderr",
     "output_type": "stream",
     "text": [
      "[nltk_data] Downloading package punkt to\n",
      "[nltk_data]     C:\\Users\\yuvraj\\AppData\\Roaming\\nltk_data...\n",
      "[nltk_data]   Unzipping tokenizers\\punkt.zip.\n",
      "[nltk_data] Downloading package wordnet to\n",
      "[nltk_data]     C:\\Users\\yuvraj\\AppData\\Roaming\\nltk_data...\n",
      "[nltk_data] Downloading package stopwords to\n",
      "[nltk_data]     C:\\Users\\yuvraj\\AppData\\Roaming\\nltk_data...\n",
      "[nltk_data]   Unzipping corpora\\stopwords.zip.\n"
     ]
    },
    {
     "data": {
      "text/plain": [
       "True"
      ]
     },
     "execution_count": 2,
     "metadata": {},
     "output_type": "execute_result"
    }
   ],
   "source": [
    "nltk.download('punkt')\n",
    "nltk.download('wordnet')\n",
    "nltk.download('stopwords')"
   ]
  },
  {
   "cell_type": "code",
   "execution_count": 30,
   "metadata": {},
   "outputs": [],
   "source": [
    "def load_lines(file_path):\n",
    "    lines = {}\n",
    "    with open(file_path, \"r\", encoding=\"iso-8859-1\") as f:\n",
    "        for line in f:\n",
    "            parts = line.strip().split(\" +++$+++ \")\n",
    "            if len(parts) == 5:\n",
    "                # Only process lines with 5 parts\n",
    "                line_id = parts[0]\n",
    "                text = parts[4]\n",
    "                lines[line_id] = text\n",
    "    return lines\n",
    "\n",
    "def load_conversations(file_path, lines):\n",
    "    conversations = {}\n",
    "    with open(file_path, \"r\", encoding=\"iso-8859-1\") as f:\n",
    "        for line in f:\n",
    "            parts = line.strip().split(\" +++$+++ \")\n",
    "            if len(parts) == 4:\n",
    "                # Only process conversations with 4 parts\n",
    "                try:\n",
    "                    conv_id = parts[0]\n",
    "                    line_ids = parts[3][1:-1].replace(\"'\", \"\").replace(\" \", \"\").split(\",\")\n",
    "                    conversations[conv_id] = [lines[line_id] for line_id in line_ids]\n",
    "                except KeyError:\n",
    "                    # Skip this conversation if one of the lines is missing\n",
    "                    continue\n",
    "                \n",
    "    return conversations\n",
    "\n",
    "# Load the dataset\n",
    "corpus_path = os.path.join(\"data\", \"cornell_movie_dialog\")\n",
    "lines_path = os.path.join(corpus_path, \"movie_lines.txt\")\n",
    "convs_path = os.path.join(corpus_path, \"movie_conversations.txt\")\n",
    "\n",
    "lines = load_lines(lines_path)\n",
    "conversations = load_conversations(convs_path, lines)\n",
    "\n",
    "qa_pairs = create_qa_pairs(lines, conversations)\n",
    "\n",
    "\n",
    "# Create a dictionary that maps each message to its response\n",
    "def create_qa_pairs(lines, conversations):\n",
    "    qa_pairs = {}\n",
    "    for conv_lines in conversations.values():\n",
    "        for i in range(len(conv_lines) - 1):\n",
    "            input_line = conv_lines[i].strip()\n",
    "            target_line = conv_lines[i+1].strip()\n",
    "            qa_pairs[input_line] = target_line\n",
    "    return qa_pairs"
   ]
  },
  {
   "cell_type": "code",
   "execution_count": 39,
   "metadata": {},
   "outputs": [],
   "source": [
    "# Preprocess the text\n",
    "def preprocess(text):\n",
    "    # Tokenize the text\n",
    "    tokens = word_tokenize(text.lower())\n",
    "    # Remove stop words\n",
    "    stop_words = set(stopwords.words(\"english\"))\n",
    "    filtered = [word for word in tokens if word not in stop_words]\n",
    "    # Stem the words\n",
    "    stemmer = PorterStemmer()\n",
    "    stemmed = [stemmer.stem(word) for word in filtered]\n",
    "    # i Remove short questions\n",
    "#     if len(stemmed) < 3:\n",
    "#         return None\n",
    "    # Join the words back into a string\n",
    "    return \" \".join(stemmed)\n",
    "\n",
    "# Load the dataset and preprocess the text\n",
    "# lines = load_lines()\n",
    "# conversations = load_conversations()\n",
    "# # print(conversations)\n",
    "# qa_pairs = create_qa_pairs(lines, conversations)\n",
    "preprocessed = [preprocess(q) for q in qa_pairs.keys() if preprocess(q)]\n",
    "\n",
    "# Train the chatbot\n",
    "vectorizer = TfidfVectorizer()\n",
    "tfidf = vectorizer.fit_transform(preprocessed)\n",
    "\n",
    "def respond(user_input):\n",
    "    input_tfidf = vectorizer.transform([preprocess(user_input)])\n",
    "    similarities = cosine_similarity(input_tfidf, tfidf).flatten()\n",
    "    best_match_index = similarities.argsort()[-1]\n",
    "    if similarities[best_match_index] == 0:\n",
    "        return \"I'm sorry, I don't understand.\"\n",
    "    else:\n",
    "        response = list(qa_pairs.values())[best_match_index]\n",
    "        return response"
   ]
  },
  {
   "cell_type": "code",
   "execution_count": 41,
   "metadata": {},
   "outputs": [
    {
     "name": "stdout",
     "output_type": "stream",
     "text": [
      "> HI\n",
      "Chatbot: Hi, is Vada home?\n",
      "> can you help me?\n",
      "Chatbot: You've got to help them.\n",
      "> ok bro\n",
      "Chatbot: All right, Scooby, let's not beat around the bush. With your attitude, you're not going to get in anywhere.\n"
     ]
    },
    {
     "ename": "KeyboardInterrupt",
     "evalue": "Interrupted by user",
     "output_type": "error",
     "traceback": [
      "\u001b[1;31m---------------------------------------------------------------------------\u001b[0m",
      "\u001b[1;31mKeyboardInterrupt\u001b[0m                         Traceback (most recent call last)",
      "\u001b[1;32m<ipython-input-41-7dfd8fef1589>\u001b[0m in \u001b[0;36m<module>\u001b[1;34m\u001b[0m\n\u001b[0;32m      1\u001b[0m \u001b[1;31m# Main loop\u001b[0m\u001b[1;33m\u001b[0m\u001b[1;33m\u001b[0m\u001b[0m\n\u001b[0;32m      2\u001b[0m \u001b[1;32mwhile\u001b[0m \u001b[1;32mTrue\u001b[0m\u001b[1;33m:\u001b[0m\u001b[1;33m\u001b[0m\u001b[0m\n\u001b[1;32m----> 3\u001b[1;33m     \u001b[0muser_input\u001b[0m \u001b[1;33m=\u001b[0m \u001b[0minput\u001b[0m\u001b[1;33m(\u001b[0m\u001b[1;34m\"> \"\u001b[0m\u001b[1;33m)\u001b[0m\u001b[1;33m\u001b[0m\u001b[0m\n\u001b[0m\u001b[0;32m      4\u001b[0m     \u001b[0mresponse\u001b[0m \u001b[1;33m=\u001b[0m \u001b[0mrespond\u001b[0m\u001b[1;33m(\u001b[0m\u001b[0muser_input\u001b[0m\u001b[1;33m)\u001b[0m\u001b[1;33m\u001b[0m\u001b[0m\n\u001b[0;32m      5\u001b[0m     \u001b[0mprint\u001b[0m\u001b[1;33m(\u001b[0m\u001b[1;34m\"Chatbot:\"\u001b[0m\u001b[1;33m,\u001b[0m \u001b[0mresponse\u001b[0m\u001b[1;33m)\u001b[0m\u001b[1;33m\u001b[0m\u001b[0m\n",
      "\u001b[1;32mc:\\users\\yuvraj\\appdata\\local\\programs\\python\\python36\\lib\\site-packages\\ipykernel\\kernelbase.py\u001b[0m in \u001b[0;36mraw_input\u001b[1;34m(self, prompt)\u001b[0m\n\u001b[0;32m    849\u001b[0m             \u001b[0mself\u001b[0m\u001b[1;33m.\u001b[0m\u001b[0m_parent_ident\u001b[0m\u001b[1;33m,\u001b[0m\u001b[1;33m\u001b[0m\u001b[0m\n\u001b[0;32m    850\u001b[0m             \u001b[0mself\u001b[0m\u001b[1;33m.\u001b[0m\u001b[0m_parent_header\u001b[0m\u001b[1;33m,\u001b[0m\u001b[1;33m\u001b[0m\u001b[0m\n\u001b[1;32m--> 851\u001b[1;33m             \u001b[0mpassword\u001b[0m\u001b[1;33m=\u001b[0m\u001b[1;32mFalse\u001b[0m\u001b[1;33m,\u001b[0m\u001b[1;33m\u001b[0m\u001b[0m\n\u001b[0m\u001b[0;32m    852\u001b[0m         )\n\u001b[0;32m    853\u001b[0m \u001b[1;33m\u001b[0m\u001b[0m\n",
      "\u001b[1;32mc:\\users\\yuvraj\\appdata\\local\\programs\\python\\python36\\lib\\site-packages\\ipykernel\\kernelbase.py\u001b[0m in \u001b[0;36m_input_request\u001b[1;34m(self, prompt, ident, parent, password)\u001b[0m\n\u001b[0;32m    890\u001b[0m             \u001b[1;32mexcept\u001b[0m \u001b[0mKeyboardInterrupt\u001b[0m\u001b[1;33m:\u001b[0m\u001b[1;33m\u001b[0m\u001b[0m\n\u001b[0;32m    891\u001b[0m                 \u001b[1;31m# re-raise KeyboardInterrupt, to truncate traceback\u001b[0m\u001b[1;33m\u001b[0m\u001b[1;33m\u001b[0m\u001b[0m\n\u001b[1;32m--> 892\u001b[1;33m                 \u001b[1;32mraise\u001b[0m \u001b[0mKeyboardInterrupt\u001b[0m\u001b[1;33m(\u001b[0m\u001b[1;34m\"Interrupted by user\"\u001b[0m\u001b[1;33m)\u001b[0m \u001b[1;32mfrom\u001b[0m \u001b[1;32mNone\u001b[0m\u001b[1;33m\u001b[0m\u001b[0m\n\u001b[0m\u001b[0;32m    893\u001b[0m             \u001b[1;32mexcept\u001b[0m \u001b[0mException\u001b[0m \u001b[1;32mas\u001b[0m \u001b[0me\u001b[0m\u001b[1;33m:\u001b[0m\u001b[1;33m\u001b[0m\u001b[0m\n\u001b[0;32m    894\u001b[0m                 \u001b[0mself\u001b[0m\u001b[1;33m.\u001b[0m\u001b[0mlog\u001b[0m\u001b[1;33m.\u001b[0m\u001b[0mwarning\u001b[0m\u001b[1;33m(\u001b[0m\u001b[1;34m\"Invalid Message:\"\u001b[0m\u001b[1;33m,\u001b[0m \u001b[0mexc_info\u001b[0m\u001b[1;33m=\u001b[0m\u001b[1;32mTrue\u001b[0m\u001b[1;33m)\u001b[0m\u001b[1;33m\u001b[0m\u001b[0m\n",
      "\u001b[1;31mKeyboardInterrupt\u001b[0m: Interrupted by user"
     ]
    }
   ],
   "source": [
    "# Main loop\n",
    "while True:\n",
    "    user_input = input(\"> \")\n",
    "    response = respond(user_input)\n",
    "    print(\"Chatbot:\", response)\n",
    "\n",
    "# while True:\n",
    "#     # Get input from user\n",
    "#     input_str = input(\"You: \")\n",
    "    \n",
    "    \n",
    "    \n",
    "#     # Preprocess the input string\n",
    "#     input_str = preprocess(input_str)\n",
    "#     print(input_str)\n",
    "#     if input_str is None:\n",
    "#         print(\"Sorry, I didn't understand that. Please try again.\")\n",
    "#         continue\n",
    "    \n",
    "#     # Generate response using the trained model\n",
    "#     input_vec = vectorizer.transform([input_str])\n",
    "#     cosine_similarities = cosine_similarity(input_vec, tfidf)\n",
    "#     max_similarity_index = cosine_similarities.argmax()\n",
    "#     response = qa_pairs_list[max_similarity_index][1]\n",
    "    \n",
    "#     # Print response\n",
    "#     print(\"Chatbot:\", response)"
   ]
  }
 ],
 "metadata": {
  "kernelspec": {
   "display_name": "Python 3",
   "language": "python",
   "name": "python3"
  },
  "language_info": {
   "codemirror_mode": {
    "name": "ipython",
    "version": 3
   },
   "file_extension": ".py",
   "mimetype": "text/x-python",
   "name": "python",
   "nbconvert_exporter": "python",
   "pygments_lexer": "ipython3",
   "version": "3.6.6"
  }
 },
 "nbformat": 4,
 "nbformat_minor": 2
}
